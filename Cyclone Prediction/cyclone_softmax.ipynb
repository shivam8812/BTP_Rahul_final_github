{
  "nbformat": 4,
  "nbformat_minor": 0,
  "metadata": {
    "colab": {
      "provenance": []
    },
    "kernelspec": {
      "name": "python3",
      "display_name": "Python 3"
    },
    "language_info": {
      "name": "python"
    }
  },
  "cells": [
    {
      "cell_type": "code",
      "execution_count": null,
      "metadata": {
        "id": "QLgHWc6zjAoB"
      },
      "outputs": [],
      "source": [
        "import pandas as pd\n",
        "\n",
        "# Read the first CSV file\n",
        "df1 = pd.read_csv('2020_new.csv')\n",
        "\n",
        "# Read the second CSV file\n",
        "df2 = pd.read_csv('2021_new.csv')\n",
        "\n",
        "df2.columns = df1.columns\n",
        "\n",
        "\n",
        "df = pd.concat([df1, df2], ignore_index = True)\n",
        "\n",
        "df = df.drop(df.columns[:5], axis=1)\n",
        "df = df.drop(df.columns[4], axis=1)\n",
        "df = df.drop(df.columns[2], axis=1)\n",
        "df = df.drop(df.columns[5], axis=1)\n",
        "print(df.columns)\n",
        "\n",
        "mapping = {val: i for i, val in enumerate(df['D'].unique())}\n",
        "print(\"Grade Mapping:\")\n",
        "for grade, number in mapping.items():\n",
        "    print(f\"{grade}: {number}\")\n",
        "# # use the map() method to map the strings to numerical values\n",
        "df['D'] = df['D'].map(mapping)\n",
        "\n",
        "df.head()"
      ]
    },
    {
      "cell_type": "code",
      "source": [
        "\n",
        "import torch\n",
        "import torch.nn as nn\n",
        "import torch.optim as optim\n",
        "import pandas as pd\n",
        "import numpy as np\n",
        "from sklearn.model_selection import train_test_split\n",
        "# define the input and output dimensions of the model\n",
        "input_dim = len(df.columns) - 1\n",
        "output_dim = 8  # 7 unique classes + no class category\n",
        "\n",
        "# # convert the categorical output feature into integer labels\n",
        "# label_mapping = {'class1': 0, 'class2': 1, 'class3': 2, 'class4': 3, 'class5': 4, 'class6': 5, 'class7': 6, 'no class': 7}\n",
        "# df['D'] = df['D'].map(label_mapping)\n",
        "\n",
        "\n",
        "# split the dataset into training, validation, and testing sets\n",
        "X_train, X_val, y_train, y_val = train_test_split(df.iloc[:, :2].join(df.iloc[:, -3:]), df.iloc[:, 2], test_size=0.2, random_state=0)\n",
        "X_val, X_test, y_val, y_test = train_test_split(X_val, y_val, test_size=0.5, random_state=0)\n",
        "\n",
        "# convert the data into PyTorch tensors\n",
        "X_train = torch.tensor(X_train.values, dtype=torch.float32)\n",
        "X_val = torch.tensor(X_val.values, dtype=torch.float32)\n",
        "X_test = torch.tensor(X_test.values, dtype=torch.float32)\n",
        "y_train = torch.tensor(y_train.values, dtype=torch.long)\n",
        "y_val = torch.tensor(y_val.values, dtype=torch.long)\n",
        "y_test = torch.tensor(y_test.values, dtype=torch.long)"
      ],
      "metadata": {
        "id": "9DXDg34VUU8m"
      },
      "execution_count": null,
      "outputs": []
    },
    {
      "cell_type": "code",
      "source": [
        "\n",
        "\n",
        "# define the neural network model\n",
        "class Net(nn.Module):\n",
        "    def __init__(self):\n",
        "        super().__init__()\n",
        "        self.fc1 = nn.Linear(input_dim, 64)\n",
        "        self.fc2 = nn.Linear(64, 64)\n",
        "        self.fc3 = nn.Linear(64,64)\n",
        "        self.fc4 = nn.Linear(64,64)\n",
        "        self.fc5 = nn.Linear(64,output_dim)\n",
        "        self.softmax = nn.LogSoftmax(dim=1)\n",
        "        \n",
        "    def forward(self, x):\n",
        "        x = nn.functional.relu(self.fc1(x))\n",
        "        x = nn.functional.relu(self.fc2(x))\n",
        "        x = nn.functional.relu(self.fc3(x))\n",
        "        x = nn.functional.relu(self.fc4(x))\n",
        "        x = self.fc5(x)\n",
        "        x = self.softmax(x)\n",
        "        return x\n",
        "\n",
        "\n"
      ],
      "metadata": {
        "id": "o80CwupYqqxN"
      },
      "execution_count": null,
      "outputs": []
    },
    {
      "cell_type": "code",
      "source": [
        "print(y_train)"
      ],
      "metadata": {
        "id": "Xdc7Zd2QXslL"
      },
      "execution_count": null,
      "outputs": []
    },
    {
      "cell_type": "code",
      "source": [
        "\n",
        "# instantiate the model and the optimizer\n",
        "net = Net()\n",
        "optimizer = optim.Adam(net.parameters(), lr=0.001)\n",
        "\n",
        "num_epochs = 500\n",
        "batch_size = 5\n",
        "criterion = nn.CrossEntropyLoss()\n",
        "train_losses = []\n",
        "valid_losses = []\n",
        "best_accuracy = 0.0  # variable to keep track of the best accuracy\n",
        "for epoch in range(num_epochs):\n",
        "    epoch_loss = 0\n",
        "    optimizer.zero_grad()\n",
        "    output = net(X_train)\n",
        "    loss = criterion(output,y_train)\n",
        "    loss.backward()\n",
        "    optimizer.step()\n",
        "    \n",
        "    # add the loss value for each iteration to the epoch_loss variable\n",
        "    epoch_loss += loss.item()\n",
        "\n",
        "    # calculate the average loss for the epoch and append it to the train_losses list\n",
        "    epoch_loss /= len(X_train)\n",
        "    train_losses.append(epoch_loss)\n",
        "    print(f\"Epoch: {epoch}, Epoch_loss: {epoch_loss}\")\n",
        "\n",
        "    # evaluate the model on the validation set\n",
        "    net.eval()\n",
        "    with torch.no_grad():\n",
        "        output = net(X_val)\n",
        "        predicted = torch.argmax(output, axis=1)\n",
        "        accuracy = torch.mean((predicted == y_val).float())\n",
        "        print(f'Validation accuracy: {accuracy}')\n",
        "        valid_losses.append(accuracy)\n",
        "        # save the model weights with the highest validation accuracy\n",
        "        if accuracy > best_accuracy:\n",
        "            best_accuracy = accuracy\n",
        "            torch.save(net.state_dict(), 'best_weights.pt')\n",
        "  \n",
        "    net.train()\n"
      ],
      "metadata": {
        "id": "d6ZEtJ_gUNE6"
      },
      "execution_count": null,
      "outputs": []
    },
    {
      "cell_type": "code",
      "source": [
        "net.load_state_dict(torch.load('best_weights.pt'))\n",
        "# evaluate the model on the testing set\n",
        "net.eval()\n",
        "with torch.no_grad():\n",
        "    output = net(X_test)\n",
        "    predicted = torch.argmax(output, axis=1)\n",
        "    print(predicted)\n",
        "    print(y_test)\n",
        "    accuracy = torch.mean((predicted == y_test).float())\n",
        "    print(f'Testing accuracy: {accuracy}')"
      ],
      "metadata": {
        "id": "rr1vAX6kUIxa"
      },
      "execution_count": null,
      "outputs": []
    },
    {
      "cell_type": "code",
      "source": [
        "import matplotlib.pyplot as plt\n",
        "plt.plot(train_losses)\n",
        "plt.xlabel(\"Epoch\")\n",
        "plt.ylabel(\"Training Loss\")\n",
        "plt.title(\"Training Loss vs. Epoch\")\n",
        "plt.show()"
      ],
      "metadata": {
        "id": "-2rZGIo1snIt"
      },
      "execution_count": null,
      "outputs": []
    },
    {
      "cell_type": "code",
      "source": [
        "print(X_train.shape)\n",
        "print(X_test.shape)\n",
        "print(y_train.shape)\n",
        "print(y_test.shape)\n",
        "print(X_val.shape)\n",
        "print(y_val.shape)"
      ],
      "metadata": {
        "id": "4i3daMVzu49Y"
      },
      "execution_count": null,
      "outputs": []
    },
    {
      "cell_type": "code",
      "source": [],
      "metadata": {
        "id": "vaYL5T9t5zmS"
      },
      "execution_count": null,
      "outputs": []
    }
  ]
}